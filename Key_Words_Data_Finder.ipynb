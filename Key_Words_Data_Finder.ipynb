{
 "cells": [
  {
   "cell_type": "code",
   "execution_count": 1,
   "metadata": {},
   "outputs": [
    {
     "name": "stdout",
     "output_type": "stream",
     "text": [
      "Table copied to clipboard!\n"
     ]
    }
   ],
   "source": [
    "import string\n",
    "import pandas as pd\n",
    "from collections import Counter\n",
    "\n",
    "def create_word_table(file_path):\n",
    "    # Read the file and split it into words\n",
    "    with open(file_path, 'r') as file:\n",
    "        content = file.read().lower().split()\n",
    "\n",
    "    # Remove punctuation from words and keep only alphabets\n",
    "    table = str.maketrans('', '', string.punctuation)\n",
    "    words = [word.translate(table) for word in content if word.isalpha()]\n",
    "\n",
    "    # Exclude specific words\n",
    "    exclude_words = [\"and\", \"or\", \"so\", \"due\", \"more\", \"our\",\"we\", \"by\", \"for\", \"their\", \"us\", \"what\", \"do\", \"were\", \"do\", \"but\", \n",
    "        \"with\", \"have\", \"be\", \"at\", \"as\", \"it\", \"like\", \"than\", \"from\", \"that\", \"can\", \"its\", \"may\", \"not\", \"he\", \"she\", \"these\",\n",
    "        \"who\", \"where\", \"why\", \"them\", \"could\", \"you\", \"some\", \"when\", \"well\", \"out\", \"was\", \"would\", \"other\", \"how\", \"his\", \"her\",\n",
    "        \"had\",\"will\", \"they\", \"has\", \"also\", \"this\", \"on\", \"to\", \"if\", \"a\", \"the\", \"of\", \"is\", \"are\", \"an\", \"in\"]\n",
    "    words = [word for word in words if word not in exclude_words]\n",
    "\n",
    "    # Count the occurrences of each word\n",
    "    word_counts = Counter(words)\n",
    "\n",
    "    # Create a DataFrame from the word_counts\n",
    "    df = pd.DataFrame(list(word_counts.items()), columns=['Word', 'Count'])\n",
    "\n",
    "    # Sort the DataFrame by count in descending order\n",
    "    df_sorted = df.sort_values('Count', ascending=False)\n",
    "\n",
    "    # Copy the DataFrame to the clipboard without index\n",
    "    df_sorted.to_clipboard(index=False, header=True)\n",
    "\n",
    "    print(\"Table copied to clipboard!\")\n",
    "    \n",
    "\n",
    "# Provide the path to your text file\n",
    "file_path = \"/Users/lukascho/Desktop/INTAC_WORK/INTAC_POTINV/CanadaLife.txt\"\n",
    "# Create the word table\n",
    "create_word_table(file_path)\n",
    "\n",
    "\n"
   ]
  }
 ],
 "metadata": {
  "kernelspec": {
   "display_name": "Python 3",
   "language": "python",
   "name": "python3"
  },
  "language_info": {
   "codemirror_mode": {
    "name": "ipython",
    "version": 3
   },
   "file_extension": ".py",
   "mimetype": "text/x-python",
   "name": "python",
   "nbconvert_exporter": "python",
   "pygments_lexer": "ipython3",
   "version": "3.9.1"
  },
  "orig_nbformat": 4,
  "vscode": {
   "interpreter": {
    "hash": "aee8b7b246df8f9039afb4144a1f6fd8d2ca17a180786b69acc140d282b71a49"
   }
  }
 },
 "nbformat": 4,
 "nbformat_minor": 2
}
